{
 "cells": [
  {
   "cell_type": "code",
   "execution_count": null,
   "metadata": {},
   "outputs": [],
   "source": [
    "import numpy as np\n",
    "import numpy.random as npr\n",
    "import random\n",
    "import scipy.stats as stats\n",
    "import matplotlib.pyplot as plt\n",
    "%matplotlib inline"
   ]
  },
  {
   "cell_type": "markdown",
   "metadata": {},
   "source": [
    "# More on Histograms for Data from Continuous Random Variables"
   ]
  },
  {
   "cell_type": "markdown",
   "metadata": {},
   "source": [
    "Consider again observing values from a continuous random variable. Let's take two examples:"
   ]
  },
  {
   "cell_type": "code",
   "execution_count": null,
   "metadata": {},
   "outputs": [],
   "source": [
    "E=stats.expon()\n",
    "G=stats.norm()"
   ]
  },
  {
   "cell_type": "code",
   "execution_count": null,
   "metadata": {},
   "outputs": [],
   "source": [
    "g=np.linspace(-5,5,101)\n",
    "e=np.linspace(0,10,101)"
   ]
  },
  {
   "cell_type": "code",
   "execution_count": null,
   "metadata": {},
   "outputs": [],
   "source": [
    "plt.plot(g,G.pdf(g))\n",
    "plt.title(\"Density of a Gaussian(0,1) random variable\");"
   ]
  },
  {
   "cell_type": "code",
   "execution_count": null,
   "metadata": {},
   "outputs": [],
   "source": [
    "plt.plot(e,E.pdf(e))\n",
    "plt.title(\"Density of an exponential(1) random variable\");"
   ]
  },
  {
   "cell_type": "markdown",
   "metadata": {},
   "source": [
    "Let's draw some observations from both random variables and try to understand how the histogram of the observations relates to the densities:"
   ]
  },
  {
   "cell_type": "code",
   "execution_count": null,
   "metadata": {},
   "outputs": [],
   "source": [
    "Evals=E.rvs(size=100)\n",
    "Gvals=G.rvs(size=100)"
   ]
  },
  {
   "cell_type": "code",
   "execution_count": null,
   "metadata": {},
   "outputs": [],
   "source": [
    "plt.hist(Evals,bins=20)"
   ]
  },
  {
   "cell_type": "code",
   "execution_count": null,
   "metadata": {},
   "outputs": [],
   "source": [
    "plt.hist(Gvals,bins=20)"
   ]
  },
  {
   "cell_type": "markdown",
   "metadata": {},
   "source": [
    "We note from the graphs that the histograms have the same general shape as the densities for these random variables. \n",
    "\n",
    "Let's see why this is true: \n",
    "\n",
    "Let $X$ be a random variable with density $f_X(x)$. \n",
    "\n",
    "Now consider a bin $(x_1,x_2]$ over which the density $f_X(x)$ is continuous. Then there is $\\tilde{x} \\in (x_1, x_2]$ such that\n",
    "\\begin{align}\n",
    "P \\bigl( X \\in  \\left(x_1,x_2\\right] \\bigr) &= \\int_{x_1}^{x_2} f_X(x)~dx \\\\\n",
    "&= f_X(\\tilde{x})(x_2-x_1)\n",
    "\\end{align}\n",
    "\n",
    "Thus, the probability of a point lying in a bin is proportional to a density value in that bin and the width of the bin"
   ]
  },
  {
   "cell_type": "markdown",
   "metadata": {},
   "source": [
    "We could turn the histogram into estimates of the bin probabilities by dividing all the entries by the total number of observations\n",
    "\n",
    "Let $N$ denote the total number of observations. Let $B_i=(x_i, x_{i+1}]$ denote bin $i$, and $N_i$ denote the number of observations that fall in $B_i$, then \n",
    "$$\n",
    "P \\bigl( X \\in  B_i) \\approx \\frac{N_i}{N}\n",
    "$$\n",
    "\n",
    "However, it makes more sense for our purposes to divide by a factor to get estimates of the density instead\n",
    "\n"
   ]
  },
  {
   "cell_type": "markdown",
   "metadata": {},
   "source": [
    "Looking at the equation \n",
    "\\begin{align}\n",
    "P \\bigl( X \\in  \\left(x_1,x_2\\right] \\bigr)\n",
    "&= f_X(\\tilde{x})(x_2-x_1),\n",
    "\\end{align}\n",
    "we can approximate the density in bin $i$ by\n",
    "$$\n",
    "f_X(\\tilde{x_i}) \\approx \\frac{N_i}{N \\vert B_i \\vert}\n",
    "$$\n",
    "\n",
    "Let's test. To make it easier to see, let's use bins with edges on the integers:"
   ]
  },
  {
   "cell_type": "code",
   "execution_count": null,
   "metadata": {},
   "outputs": [],
   "source": [
    "mybins=range(7)\n",
    "(counts,bins,_)=plt.hist(Evals,bins=mybins)"
   ]
  },
  {
   "cell_type": "code",
   "execution_count": null,
   "metadata": {},
   "outputs": [],
   "source": [
    "plt.step(bins,np.append(counts,0)/np.sum(counts)/(bins[1]-bins[0])\n",
    "         ,where='post')"
   ]
  },
  {
   "cell_type": "markdown",
   "metadata": {},
   "source": [
    "Let's check if that is a valid density:"
   ]
  },
  {
   "cell_type": "code",
   "execution_count": null,
   "metadata": {},
   "outputs": [],
   "source": [
    "np.sum(np.append(counts,0)/np.sum(counts)/(bins[1]-bins[0]))"
   ]
  },
  {
   "cell_type": "markdown",
   "metadata": {},
   "source": [
    "Fortunately for us, we don't have to remember this formula or derive it whenever we want to create estimates of densities using a histogram from matplotlib.\n",
    "\n",
    "Instead just call ```plt.hist``` with the keyword argument ```density=True```"
   ]
  },
  {
   "cell_type": "code",
   "execution_count": null,
   "metadata": {},
   "outputs": [],
   "source": [
    "plt.hist(Evals, mybins, density=True);"
   ]
  },
  {
   "cell_type": "code",
   "execution_count": null,
   "metadata": {},
   "outputs": [],
   "source": [
    "plt.hist(Gvals, density=True);"
   ]
  },
  {
   "cell_type": "markdown",
   "metadata": {},
   "source": [
    "## Kernel Density Estimation"
   ]
  },
  {
   "cell_type": "markdown",
   "metadata": {},
   "source": [
    "We have solved one of the problems in using histograms to approximate densities. \n",
    "\n",
    "But another problem remains: the blocky histogram does a poor job of approximating a continuous density\n",
    "\n",
    "We can increase the number of bins to get a finer resolution, but then the number of observations in each bin get smaller, and the approximations for the density values may become poor:"
   ]
  },
  {
   "cell_type": "code",
   "execution_count": null,
   "metadata": {},
   "outputs": [],
   "source": [
    "(counts,bins,_)=plt.hist(Gvals,bins=30, density=True);"
   ]
  },
  {
   "cell_type": "markdown",
   "metadata": {},
   "source": [
    "Recall that we can build a histogram by putting a block for each observation, where the blocks are centered on the bins. \n",
    "\n",
    "We can use animation to visualize this better.  Because the animation is slow, let's use 40 random variables instead of 100:\n"
   ]
  },
  {
   "cell_type": "code",
   "execution_count": null,
   "metadata": {},
   "outputs": [],
   "source": [
    "G40=G.rvs(size=40)"
   ]
  },
  {
   "cell_type": "markdown",
   "metadata": {},
   "source": [
    "Here is an aminated GIF showing a histogram of the data being created step by step:\n",
    "\n",
    "![](histogram.gif \"Animated Histogram of Gaussian Data\")\n",
    "\n",
    "And here is the code to show the animation live in the browser"
   ]
  },
  {
   "cell_type": "code",
   "execution_count": null,
   "metadata": {},
   "outputs": [],
   "source": [
    "from matplotlib import animation\n",
    "#This will do an animated histogram\n",
    "%matplotlib notebook\n",
    "\n",
    "fig = plt.figure()\n",
    "fig.set_dpi(100)\n",
    "fig.set_size_inches(5, 4)\n",
    "ymax=10\n",
    "\n",
    "ax = plt.axes(xlim=(-3, 3), ylim=(0, ymax))\n",
    "patches={}\n",
    "floors={}\n",
    "\n",
    "def init():\n",
    "    patches['activePatch']=0\n",
    "    for num,var in enumerate(G40):\n",
    "        binedge=(var*2-0.5).round()/2\n",
    "        patch = plt.Rectangle((binedge, ymax), 0.5,0.5, fc='b')\n",
    "        ax.add_patch(patch)\n",
    "        patches[num]=patch\n",
    "        floors[binedge]=0.01\n",
    "        #print(num,var, patches)\n",
    "\n",
    "\n",
    "    return []\n",
    "\n",
    "def animatePatch(i, patch, update):\n",
    "    x, y = patch.xy\n",
    "    #x = 2*patchnum + 3 * np.sin(np.radians(i))\n",
    "    if update:\n",
    "        y =  y-0.5\n",
    "    patch.xy = (x, y)\n",
    "    return patch,\n",
    "\n",
    "def animate(i, patches):\n",
    "    activePatch=patches['activePatch']\n",
    "    x,y=patches[activePatch].xy\n",
    "    if y<=floors[x]:\n",
    "        floors[x]=floors[x]+0.5\n",
    "        patches['activePatch']=activePatch+1\n",
    "        activePatch+=1\n",
    "        if activePatch not in patches.keys():\n",
    "            return []\n",
    "    #print(patches[activePatch])\n",
    "    for patchnum in patches:\n",
    "        #print(patchnum)\n",
    "        if patchnum!='activePatch':\n",
    "            animatePatch(i, patches[patchnum], activePatch==patchnum)\n",
    "    \n",
    "    return[]\n",
    "\n",
    "anim = animation.FuncAnimation(fig, animate, \n",
    "                               init_func=init, \n",
    "                               frames=100*len(G40), \n",
    "                               fargs=(patches,),\n",
    "                               interval=5,\n",
    "                               blit=True,repeat=False)\n",
    "\n",
    "#anim.save('histogram.gif', writer='imagemagick', fps=30)\n",
    "plt.show()"
   ]
  },
  {
   "cell_type": "markdown",
   "metadata": {},
   "source": [
    "What if we instead let each block be centered on the observation value?\n",
    "\n",
    "Blocks don't stack neatly now, so we allow each part of the block to fall to the lowest open level.\n",
    "\n",
    "Here is an aminated GIF showing this new type of histogram of the data being created step by step:\n",
    "\n",
    "![](kde_rect.gif \"Animated Histogram with Blocks Centered on Observations, Gaussian Data\")\n",
    "\n",
    "And here is the code to show the animation live in the browser\n",
    "\n"
   ]
  },
  {
   "cell_type": "code",
   "execution_count": null,
   "metadata": {},
   "outputs": [],
   "source": [
    "# Now center blocks on the observed values\n",
    "# Quantizing the space to make this work out\n",
    "%matplotlib notebook\n",
    "\n",
    "\n",
    "fig = plt.figure()\n",
    "fig.set_dpi(100)\n",
    "fig.set_size_inches(4, 3.5)\n",
    "\n",
    "ax = plt.axes(xlim=(-5, 5), ylim=(0, 10))\n",
    "blocks={}\n",
    "floors={}\n",
    "patchesPerBlock=9\n",
    "\n",
    "def init():\n",
    "    blocks['activeBlock']=0\n",
    "    for num,var in enumerate(G40):\n",
    "        center=round(var,1)\n",
    "        blocks[num]=[]\n",
    "        for i in range(patchesPerBlock):\n",
    "            binedge=round(center+(i-patchesPerBlock//2)*0.1,1)\n",
    "            patch = plt.Rectangle((binedge, 10), 0.1,0.5, fc='b')\n",
    "            ax.add_patch(patch)\n",
    "            blocks[num]+=[patch]\n",
    "            floors[binedge]=0.01\n",
    "        #print(num,var, patches)\n",
    "\n",
    "\n",
    "    return []\n",
    "\n",
    "def animatePatch(i, patch,update):\n",
    "    return patch,\n",
    "\n",
    "def animate(i, blocks):\n",
    "    activeBlock=blocks['activeBlock']\n",
    "    #print(activeBlock,blocks)\n",
    "    numFloored=0\n",
    "    for patch in blocks[activeBlock]:\n",
    "        x,y=patch.xy\n",
    "        if y<=floors[x]:\n",
    "            #floors[x]=floors[x]+0.6\n",
    "            #print(\"floors[\",x,\"]=\",floors[x])\n",
    "            numFloored+=1\n",
    "        else:\n",
    "            x,y=patch.xy\n",
    "            patch.xy=(x,y-0.5)\n",
    "    if numFloored>=patchesPerBlock:\n",
    "        for patch in blocks[activeBlock]:\n",
    "            x,y=patch.xy\n",
    "            floors[x]=floors[x]+0.5\n",
    "        blocks['activeBlock']=activeBlock+1\n",
    "        activeBlock+=1\n",
    "        if activeBlock not in blocks.keys():\n",
    "            return []\n",
    "        #print(patches[activePatch])\n",
    "    for i in blocks:\n",
    "        #print(patchnum)\n",
    "        if i!='activeBlock':\n",
    "            for patch in blocks[i]:\n",
    "                animatePatch(i, patch,activeBlock==i)\n",
    "\n",
    "    return[]\n",
    "\n",
    "anim2 = animation.FuncAnimation(fig, animate, \n",
    "                               init_func=init, \n",
    "                               frames=100*len(G40), \n",
    "                               fargs=(blocks,),\n",
    "                               interval=5,\n",
    "                               blit=True,repeat=False)\n",
    "anim2.save('kde_rect.gif', writer='imagemagick', fps=30)\n",
    "\n",
    "\n",
    "plt.show()"
   ]
  },
  {
   "cell_type": "markdown",
   "metadata": {},
   "source": [
    "This seems much closer to the true density. Here is a similar (non-animated) graph for 100 Gaussian RVs, with a finer quantization:"
   ]
  },
  {
   "cell_type": "code",
   "execution_count": null,
   "metadata": {},
   "outputs": [],
   "source": [
    "%matplotlib inline\n",
    "x = np.linspace(-5, 5, 1000)\n",
    "width=2\n",
    "density=np.zeros(x.size)\n",
    "for xi in Gvals:\n",
    "    block=(x>xi-width/2)&(x< xi+width/2)\n",
    "    density+=block\n",
    "plt.fill_between(x,density, color='b', alpha=0.1)"
   ]
  },
  {
   "cell_type": "markdown",
   "metadata": {},
   "source": [
    "This is better, but not very smooth. There is no reason to only use rectangular blocks, so let's try a smoother shape.\n",
    "\n",
    "In the animation below, I have replaced the rectangular block with a Gaussian shape.\n",
    "\n",
    "This is even slower than the previous animations, so let's reduce down to 25 variables.\n",
    "\n",
    "Here is an aminated GIF showing this new type of histogram of the data being created step by step:\n",
    "\n",
    "![](kde_gauss.gif \"Animated Histogram Built from Gaussian Shapes Centered on Observations, Gaussian Data\")\n",
    "\n",
    "And here is the code to show the animation live in the browser\n",
    "\n"
   ]
  },
  {
   "cell_type": "code",
   "execution_count": null,
   "metadata": {},
   "outputs": [],
   "source": [
    "G25=stats.norm.rvs(size=25)"
   ]
  },
  {
   "cell_type": "code",
   "execution_count": null,
   "metadata": {},
   "outputs": [],
   "source": [
    "# Trying to use non-rectangular shape\n",
    "%matplotlib notebook\n",
    "\n",
    "\n",
    "fig = plt.figure()\n",
    "fig.set_dpi(100)\n",
    "fig.set_size_inches(5, 4)\n",
    "\n",
    "ymax=18\n",
    "xmax=2.5\n",
    "ax = plt.axes(xlim=(-xmax, xmax), ylim=(0, ymax))\n",
    "blocks={}\n",
    "floors={}\n",
    "patchesPerBlock=25\n",
    "\n",
    "def init():\n",
    "    blocks['activeBlock']=0\n",
    "    for num,var in enumerate(G25):\n",
    "        center=round(var,1)\n",
    "        blocks[num]=[]\n",
    "        for i in range(patchesPerBlock):\n",
    "            binedge=round(center+(i-patchesPerBlock//2)*0.1,1)\n",
    "            patch = plt.Rectangle((binedge, ymax), 0.1,\n",
    "                                  stats.norm.pdf((i-patchesPerBlock//2)*0.1,scale=0.5)*1.5, fc='b')\n",
    "            ax.add_patch(patch)\n",
    "            blocks[num]+=[patch]\n",
    "            floors[binedge]=0.01\n",
    "        #print(num,var, patches)\n",
    "\n",
    "\n",
    "    return []\n",
    "\n",
    "def animatePatch(i, patch,update):\n",
    "    return patch,\n",
    "\n",
    "def animate(i, blocks):\n",
    "    activeBlock=blocks['activeBlock']\n",
    "    if activeBlock not in blocks.keys():\n",
    "            return []\n",
    "    #print(activeBlock,blocks)\n",
    "    numFloored=0\n",
    "    for patch in blocks[activeBlock]:\n",
    "        x,y=patch.xy\n",
    "        if y<=floors[x]:\n",
    "            numFloored+=1\n",
    "        elif y-floors[x] >0.2:\n",
    "            patch.xy=(x,y-0.2)\n",
    "        elif y-floors[x] >0.1:\n",
    "            patch.xy=(x,y-0.1)\n",
    "        else:\n",
    "            patch.xy=(x,y-0.05)\n",
    "    if numFloored>=patchesPerBlock:\n",
    "        for patch in blocks[activeBlock]:\n",
    "            x,y=patch.xy\n",
    "            #patch.xy=(x,0)\n",
    "            new_height=y+patch.get_height()\n",
    "            #new_height=floors[x]+patch.get_height()\n",
    "\n",
    "\n",
    "            #patch.set_height(new_height)\n",
    "            floors[x]=round(new_height,1)\n",
    "        blocks['activeBlock']=activeBlock+1\n",
    "        activeBlock+=1\n",
    "        if activeBlock not in blocks.keys():\n",
    "            return []\n",
    "        #print(patches[activePatch])\n",
    "    for i in blocks:\n",
    "        #print(patchnum)\n",
    "        if i!='activeBlock':\n",
    "            for patch in blocks[i]:\n",
    "                animatePatch(i, patch,activeBlock==i)\n",
    "\n",
    "    return[]\n",
    "\n",
    "anim3 = animation.FuncAnimation(fig, animate, \n",
    "                               init_func=init, \n",
    "                               frames=100*len(G25), \n",
    "                               fargs=(blocks,),\n",
    "                               interval=5,\n",
    "                               blit=True,repeat=False)\n",
    "#anim\n",
    "#anim3.save('kde_gauss.gif', writer='imagemagick', fps=60)\n",
    "\n",
    "\n",
    "#plt.show()"
   ]
  },
  {
   "cell_type": "markdown",
   "metadata": {},
   "source": [
    "Here is the same type of graph created with a wider, more finely quantized Gaussian shape and 100 Gaussian random variables:"
   ]
  },
  {
   "cell_type": "code",
   "execution_count": null,
   "metadata": {},
   "outputs": [],
   "source": [
    "%matplotlib inline\n",
    "x = np.linspace(-5,5, 1000)\n",
    "density=np.zeros(x.size)\n",
    "for xi in Gvals:\n",
    "    ## Create new Gaussian RVs centered on the observation\n",
    "    Gi=stats.norm(xi) \n",
    "    ## Use the density of the RV as the shape instead of a block:\n",
    "    density+=Gi.pdf(x) \n",
    "    \n",
    "plt.fill_between(x,density)"
   ]
  },
  {
   "cell_type": "markdown",
   "metadata": {},
   "source": [
    "**Magic!** This looks a lot like our density, even though we only had 100 observations!\n",
    "\n",
    "The shape we use to build this new density estimate is called a \"kernel\" \n",
    "\n",
    "This approach is called *kernel density estimation (KDE)*\n",
    "\n",
    "However things are not quite as good as they seem:"
   ]
  },
  {
   "cell_type": "code",
   "execution_count": null,
   "metadata": {},
   "outputs": [],
   "source": [
    "x = np.linspace(-5,5, 1000)\n",
    "density=np.zeros(x.size)\n",
    "for xi in Gvals:\n",
    "    ## Create new Gaussian RVs centered on the observation\n",
    "    Gi=stats.norm(xi) \n",
    "    ## Use the density of the RV as the shape instead of a block:\n",
    "    density+=Gi.pdf(x) \n",
    "    \n",
    "plt.fill_between(x,density/70) #Scale to make amplitudes match\n",
    "plt.plot(x, G.pdf(x),'k')"
   ]
  },
  {
   "cell_type": "markdown",
   "metadata": {},
   "source": [
    "Why? We only have 100 data points"
   ]
  },
  {
   "cell_type": "code",
   "execution_count": null,
   "metadata": {},
   "outputs": [],
   "source": [
    "Gvals2=G.rvs(size=1000)\n",
    "x = np.linspace(-5,5, 1000)\n",
    "density=np.zeros(x.size)\n",
    "for xi in Gvals2:\n",
    "    ## Create new Gaussian RVs centered on the observation\n",
    "    Gi=stats.norm(xi) \n",
    "    ## Use the density of the RV as the shape instead of a block:\n",
    "    density+=Gi.pdf(x) \n",
    "    \n",
    "plt.fill_between(x,density/700) #Scale to make amplitudes match\n",
    "plt.plot(x, G.pdf(x),'k')"
   ]
  },
  {
   "cell_type": "markdown",
   "metadata": {},
   "source": [
    "The esimated density is still wider than the true density. This is because the kernel we are using is too wide to capture the true density -- it provides too much smoothing. Let's try a narrower kernel:"
   ]
  },
  {
   "cell_type": "code",
   "execution_count": null,
   "metadata": {},
   "outputs": [],
   "source": [
    "Gvals2=G.rvs(size=1000)\n",
    "x = np.linspace(-5,5, 1000)\n",
    "density=np.zeros(x.size)\n",
    "for xi in Gvals2:\n",
    "    ## Create new Gaussian RVs centered on the observation\n",
    "    Gi=stats.norm(xi,scale=0.4) \n",
    "    ## Use the density of the RV as the shape instead of a block:\n",
    "    density+=Gi.pdf(x) \n",
    "    \n",
    "plt.fill_between(x,density/950) #Scale to make amplitudes match\n",
    "plt.plot(x, G.pdf(x),'k')"
   ]
  },
  {
   "cell_type": "markdown",
   "metadata": {},
   "source": [
    "That is pretty close. \n",
    "\n",
    "So one important issue in KDE is choosing the appropriate kernel.\n",
    "\n",
    "The Gaussian kernel is most common, but the variance of the kernel must be chosen appropriately\n",
    "\n",
    "Let's try some other variances:\n",
    "\n"
   ]
  },
  {
   "cell_type": "code",
   "execution_count": null,
   "metadata": {},
   "outputs": [],
   "source": [
    "x = np.linspace(-5,5, 1000)\n",
    "density=np.zeros(x.size)\n",
    "for xi in Gvals2:\n",
    "    ## Create new Gaussian RVs centered on the observation\n",
    "    Gi=stats.norm(xi,scale=0.1) \n",
    "    ## Use the density of the RV as the shape instead of a block:\n",
    "    density+=Gi.pdf(x) \n",
    "    \n",
    "plt.fill_between(x,density)"
   ]
  },
  {
   "cell_type": "code",
   "execution_count": null,
   "metadata": {},
   "outputs": [],
   "source": [
    "x = np.linspace(-5,5, 1000)\n",
    "density=np.zeros(x.size)\n",
    "for xi in Gvals2:\n",
    "    ## Create new Gaussian RVs centered on the observation\n",
    "    Gi=stats.norm(xi,scale=5) \n",
    "    ## Use the density of the RV as the shape instead of a block:\n",
    "    density+=Gi.pdf(x) \n",
    "    \n",
    "plt.fill_between(x,density)"
   ]
  },
  {
   "cell_type": "markdown",
   "metadata": {},
   "source": [
    "Let's try an exponential kernel:"
   ]
  },
  {
   "cell_type": "code",
   "execution_count": null,
   "metadata": {},
   "outputs": [],
   "source": [
    "x = np.linspace(-5,5, 1000)\n",
    "density=np.zeros(x.size)\n",
    "for xi in Gvals:\n",
    "    ## Create new exponential RVs centered on the observation\n",
    "    Ei=stats.expon(xi) \n",
    "    ## Use the density of the RV as the shape instead of a block:\n",
    "    density+=Ei.pdf(x) \n",
    "    \n",
    "plt.fill_between(x,density)"
   ]
  },
  {
   "cell_type": "markdown",
   "metadata": {},
   "source": [
    "It is not that bad, but way worse than our Gaussian kernel.\n"
   ]
  },
  {
   "cell_type": "markdown",
   "metadata": {},
   "source": [
    "Now consider applying KDE to the observations from the Exponential random variable:"
   ]
  },
  {
   "cell_type": "code",
   "execution_count": null,
   "metadata": {},
   "outputs": [],
   "source": [
    "x = np.linspace(-3,8, 1000)\n",
    "density=np.zeros(x.size)\n",
    "for xi in Evals:\n",
    "    Gi=stats.norm(xi)\n",
    "    density+=Gi.pdf(x)\n",
    "plt.fill_between(x,density/30)\n",
    "plt.plot(x, E.pdf(x),'k')"
   ]
  },
  {
   "cell_type": "markdown",
   "metadata": {},
   "source": [
    "Hmmm.... That doesn't look like an exponential density. Our random variable is non-negative!!!\n",
    "\n",
    "We could do a little better if we make our shape more narrow:"
   ]
  },
  {
   "cell_type": "code",
   "execution_count": null,
   "metadata": {},
   "outputs": [],
   "source": [
    "x = np.linspace(-3,8, 1000)\n",
    "density=np.zeros(x.size)\n",
    "for xi in Evals:\n",
    "    Gi=stats.norm(xi,scale=0.3)\n",
    "    density+=Gi.pdf(x)\n",
    "plt.fill_between(x,density/60)\n",
    "plt.plot(x, E.pdf(x),'k')"
   ]
  },
  {
   "cell_type": "markdown",
   "metadata": {},
   "source": [
    "Finally, let's try our exponential kernel:"
   ]
  },
  {
   "cell_type": "code",
   "execution_count": null,
   "metadata": {},
   "outputs": [],
   "source": [
    "x = np.linspace(0, 10, 1000)\n",
    "density=np.zeros(x.size)\n",
    "for xi in Evals:\n",
    "    ## Create new exponential RVs centered on the observation\n",
    "    Ei=stats.expon(xi) \n",
    "    ## Use the density of the RV as the shape instead of a block:\n",
    "    density+=Ei.pdf(x) \n",
    "    \n",
    "plt.fill_between(x,density/35)\n",
    "plt.plot(x, E.pdf(x),'k')"
   ]
  },
  {
   "cell_type": "markdown",
   "metadata": {},
   "source": [
    "Well, it is non-negative, but still not great\n",
    "\n",
    "One, more time with a narrower kernel:"
   ]
  },
  {
   "cell_type": "code",
   "execution_count": null,
   "metadata": {},
   "outputs": [],
   "source": [
    "x = np.linspace(0, 10, 1000)\n",
    "density=np.zeros(x.size)\n",
    "for xi in Evals:\n",
    "    ## Create new exponential RVs centered on the observation\n",
    "    Ei=stats.expon(xi,scale=0.3) \n",
    "    ## Use the density of the RV as the shape instead of a block:\n",
    "    density+=Ei.pdf(x) \n",
    "    \n",
    "plt.fill_between(x,density/70)\n",
    "plt.plot(x, E.pdf(x),'k')"
   ]
  },
  {
   "cell_type": "markdown",
   "metadata": {},
   "source": [
    "It is very hard to get a good estimate because the Exponential density is not continuous"
   ]
  },
  {
   "cell_type": "markdown",
   "metadata": {},
   "source": [
    "In this class, we will apply KDE to continuous densities, and we will always use the Gaussian kernel.\n",
    "\n",
    "However, we still need to choose the variance of the kernel.\n",
    "\n",
    "Fortunately, there are techniques to automatically choose the variance of the Gaussian kernel. \n",
    "\n",
    "We will generally use scipy.stat's gaussian_kde method, which uses a heuristic to choose the variance of the Gaussian kernel (called the bandwidth)\n"
   ]
  },
  {
   "cell_type": "code",
   "execution_count": null,
   "metadata": {},
   "outputs": [],
   "source": [
    "Gkde=stats.gaussian_kde(Gvals2)"
   ]
  },
  {
   "cell_type": "code",
   "execution_count": null,
   "metadata": {},
   "outputs": [],
   "source": [
    "x=np.linspace(-5,5,1001)\n",
    "plt.plot(x,Gkde(x))\n",
    "plt.plot(x,G.pdf(x))"
   ]
  }
 ],
 "metadata": {
  "kernelspec": {
   "display_name": "Python 3",
   "language": "python",
   "name": "python3"
  },
  "language_info": {
   "codemirror_mode": {
    "name": "ipython",
    "version": 3
   },
   "file_extension": ".py",
   "mimetype": "text/x-python",
   "name": "python",
   "nbconvert_exporter": "python",
   "pygments_lexer": "ipython3",
   "version": "3.7.4"
  }
 },
 "nbformat": 4,
 "nbformat_minor": 2
}
