{
 "cells": [
  {
   "cell_type": "code",
   "execution_count": 1,
   "metadata": {},
   "outputs": [],
   "source": [
    "import numpy as np\n",
    "import matplotlib.pyplot as plt\n",
    "%matplotlib inline\n",
    "import matplotlib.transforms\n",
    "\n",
    "## John M. Shea\n",
    "## February 11, 2020\n",
    "## jshea@ece.ufl.edu\n",
    "## @jmshea"
   ]
  },
  {
   "cell_type": "markdown",
   "metadata": {},
   "source": [
    "# Visualizing Independence\n",
    "\n",
    "This notebook is motivated by the (static) visualization of dijoint and statistically independent events here: \n",
    "\n",
    "[Disjointed Independence](https://blogs.adelaide.edu.au/maths-learning/2016/04/14/disjointed-independence/)"
   ]
  },
  {
   "cell_type": "markdown",
   "metadata": {},
   "source": [
    "We begin by defining a function to create a visualization of events drawn from a sample space that can be shown as a $10 \\times 10$ grid\n",
    "\n",
    "We will color a square in the grid if it belongs to the event. Otherwise, we leave it white\n",
    "\n",
    "The function can show up to 2 events, in which case it will use different colors for each event\n",
    "\n",
    "Don't worry about the details of how this function works...\n",
    "\n",
    "**Throughout this tutorial, we assume that all outcomes in the sample space are equally likely**"
   ]
  },
  {
   "cell_type": "code",
   "execution_count": 2,
   "metadata": {},
   "outputs": [],
   "source": [
    "def gridshow(*args):\n",
    "    '''\n",
    "    visualize 1 or 2 events that have outcomes with uniform \n",
    "    probability in a 10x10 sample space\n",
    "    \n",
    "    inputs: 1 or 2 10x10 numpy arrays, each of which \n",
    "    has 1s for each outcome contained in the event and\n",
    "    0s everywhere else\n",
    "    \n",
    "    outputs: draws events on grid, but no returned values\n",
    "    '''\n",
    "    \n",
    "    if len(args)>2 or len(args)<1:\n",
    "        print(\"gridshow only works for 1 or 2 arrays\")\n",
    "        return\n",
    "\n",
    "    if np.shape(args[0]) != (10,10):\n",
    "        print(\"data must be in 10x10 numpy arrays\")\n",
    "        return\n",
    "    data=np.ones((10,10))-0.4*args[0]\n",
    "\n",
    "    if len(args)>1:\n",
    "        if np.shape(args[0]) != (10,10):\n",
    "            print(\"data must be in 10x10 numpy arrays\")\n",
    "            return\n",
    "        data2=np.ones((10,10))-args[1]\n",
    "    def extents(f):\n",
    "      delta = f[1] - f[0]\n",
    "      return [f[0] - delta/2, f[-1] + delta/2]\n",
    "\n",
    "    x = np.linspace(0, 9, 10)\n",
    "    y = np.linspace(0, 9, 10)\n",
    "#     data=np.ones((10,10))\n",
    "#     data[0:5,0:5]=0.6\n",
    "\n",
    "#     data2=np.ones((10,10))\n",
    "#     data2[3:6,3:8]=0\n",
    "\n",
    "\n",
    "\n",
    "    plt.imshow(data, aspect='auto', interpolation='none',\n",
    "               extent=extents(x) + extents(y), origin='lower',\n",
    "               cmap='ocean',vmin=0, vmax=1,alpha=0.8)\n",
    "    if len(args)>1:\n",
    "        plt.imshow(data2, aspect='auto', interpolation='none',\n",
    "                   extent=extents(x) + extents(y), origin='lower',\n",
    "                   cmap='ocean',vmin=0, vmax=1,alpha=0.6)\n",
    "    fig=plt.gcf()\n",
    "    fig.set_size_inches(5,5)\n",
    "    ax=plt.gca()\n",
    "    ax.set_xticks(np.linspace(0.5,9.5,10))\n",
    "    ax.set_yticks(np.linspace(0.5,9.5,10))\n",
    "    # Turn off tick labels\n",
    "    ax.set_yticklabels(np.linspace(1,10,10,dtype=\"int\"))\n",
    "    ax.set_xticklabels(np.linspace(1,10,10,dtype=\"int\"))\n",
    "\n",
    "    # Create offset transform by 5 points in x direction\n",
    "    dx = -16/72.; dy = 0/72. \n",
    "    offset = matplotlib.transforms.ScaledTranslation(dx, dy, fig.dpi_scale_trans)\n",
    "    # apply offset transform to all x ticklabels.\n",
    "    for label in ax.xaxis.get_majorticklabels():\n",
    "        label.set_transform(label.get_transform() + offset)\n",
    "\n",
    "    # Create offset transform by 5 points in y direction\n",
    "    dx = 0/72.; dy = -16/72. \n",
    "    offset = matplotlib.transforms.ScaledTranslation(dx, dy, fig.dpi_scale_trans)\n",
    "    # apply offset transform to all x ticklabels.\n",
    "    for label in ax.yaxis.get_majorticklabels():\n",
    "        label.set_transform(label.get_transform() + offset)\n",
    "\n",
    "    plt.grid()"
   ]
  },
  {
   "cell_type": "markdown",
   "metadata": {},
   "source": [
    "## Preliminaries: Single Events"
   ]
  },
  {
   "cell_type": "markdown",
   "metadata": {},
   "source": [
    "We begin by visualizing some single events and commenting on them to help understand how we can work with this visualization.\n",
    "\n",
    "I want to use 1-based indexing throughout this tutorial, and only rectangular events, so I am going to create a helper function to \n",
    "make it easier to create such events:"
   ]
  },
  {
   "cell_type": "code",
   "execution_count": 3,
   "metadata": {},
   "outputs": [],
   "source": [
    "def rectevent(w,h,x=1,y=1):\n",
    "    '''Create as rectangular event of height h and width w,\n",
    "    starting at position x,y'''\n",
    "    data=np.zeros((10,10))\n",
    "    \n",
    "    # Sanity checking\n",
    "    if w<0 or h<0 or w>10 or h>10 or x<1 or y<1 or x>10 or y>10:\n",
    "        print(\"All input arguments take arguments from 1,2,...,10\")\n",
    "        return\n",
    "    if y+h>11 or x+w>11:\n",
    "        print(\"You provided a x,y starting point that would cause\",\n",
    "             \"the rectangle to be off the grid\")\n",
    "        return\n",
    "\n",
    "    data[y-1:y-1+h,x-1:x-1+w]=1\n",
    "    return data"
   ]
  },
  {
   "cell_type": "markdown",
   "metadata": {},
   "source": [
    "Now, let's draw an event $E$ that occupies a $4 \\times 3$ area of the grid:"
   ]
  },
  {
   "cell_type": "code",
   "execution_count": 4,
   "metadata": {},
   "outputs": [
    {
     "data": {
      "image/png": "[encoded data removed]",
      "text/plain": [
       "<Figure size 360x360 with 1 Axes>"
      ]
     },
     "metadata": {
      "needs_background": "light"
     },
     "output_type": "display_data"
    }
   ],
   "source": [
    "E=rectevent(4,3)\n",
    "np.shape(E)\n",
    "gridshow(E)"
   ]
  },
  {
   "cell_type": "markdown",
   "metadata": {},
   "source": [
    "Because we have assumed equally likely outcomes, the probability of an event $E$ is \n",
    "$$\n",
    "P(E) = \\frac{\\vert E \\vert}{\\vert S \\vert}\n",
    "$$\n",
    "\n",
    "Since we assign a 1 to our numpy.array representation of the event for every outcome that is included in the event, and 0 otherwise, we can easily write a function to calculate the probability of an event from its array representation:"
   ]
  },
  {
   "cell_type": "code",
   "execution_count": 5,
   "metadata": {},
   "outputs": [],
   "source": [
    "def prob(E):\n",
    "    \n",
    "    return np.sum(E)/np.size(E)"
   ]
  },
  {
   "cell_type": "markdown",
   "metadata": {},
   "source": [
    "Then the probability of $E$ is "
   ]
  },
  {
   "cell_type": "code",
   "execution_count": 6,
   "metadata": {},
   "outputs": [
    {
     "data": {
      "text/plain": [
       "0.12"
      ]
     },
     "execution_count": 6,
     "metadata": {},
     "output_type": "execute_result"
    }
   ],
   "source": [
    "prob(E)"
   ]
  },
  {
   "cell_type": "markdown",
   "metadata": {},
   "source": [
    "Note that the probability of the event is not affected by it location in the grid:"
   ]
  },
  {
   "cell_type": "code",
   "execution_count": 7,
   "metadata": {},
   "outputs": [
    {
     "data": {
      "text/plain": [
       "0.12"
      ]
     },
     "execution_count": 7,
     "metadata": {},
     "output_type": "execute_result"
    },
    {
     "data": {
      "image/png": "[encoded data removed]",
      "text/plain": [
       "<Figure size 360x360 with 1 Axes>"
      ]
     },
     "metadata": {
      "needs_background": "light"
     },
     "output_type": "display_data"
    }
   ],
   "source": [
    "E2=rectevent(4,3,3,5)\n",
    "np.shape(E2)\n",
    "gridshow(E2)\n",
    "prob(E2)"
   ]
  },
  {
   "cell_type": "markdown",
   "metadata": {},
   "source": [
    "## Mutually Exclusive Events"
   ]
  },
  {
   "cell_type": "markdown",
   "metadata": {},
   "source": [
    "Before we get to independence, let's start with an easier concept: mutually exclusive (or disjoint) events\n",
    "\n",
    "Events are mutually exclusive if they share no common outcomes\n",
    "\n",
    "In terms of our visualization, events are mutually exclusive if the plotted rectangles do not overlap.\n",
    "\n",
    "Here are examples of 2 events that are mutually exclusive:"
   ]
  },
  {
   "cell_type": "code",
   "execution_count": 8,
   "metadata": {},
   "outputs": [
    {
     "data": {
      "text/plain": [
       "(0.12, 0.16)"
      ]
     },
     "execution_count": 8,
     "metadata": {},
     "output_type": "execute_result"
    },
    {
     "data": {
      "image/png": "[encoded data removed]",
      "text/plain": [
       "<Figure size 360x360 with 1 Axes>"
      ]
     },
     "metadata": {
      "needs_background": "light"
     },
     "output_type": "display_data"
    }
   ],
   "source": [
    "E3=rectevent(4,3,3,5)\n",
    "E4=rectevent(8,2,2,2)\n",
    "gridshow(E3,E4)\n",
    "prob(E3),prob(E4)"
   ]
  },
  {
   "cell_type": "code",
   "execution_count": 9,
   "metadata": {},
   "outputs": [
    {
     "data": {
      "text/plain": [
       "(0.25, 0.24)"
      ]
     },
     "execution_count": 9,
     "metadata": {},
     "output_type": "execute_result"
    },
    {
     "data": {
      "image/png": "[encoded data removed]",
      "text/plain": [
       "<Figure size 360x360 with 1 Axes>"
      ]
     },
     "metadata": {
      "needs_background": "light"
     },
     "output_type": "display_data"
    }
   ],
   "source": [
    "E5=rectevent(5,5,1,6)\n",
    "E6=rectevent(3,8,7,1)\n",
    "gridshow(E5,E6)\n",
    "prob(E5), prob(E6)"
   ]
  },
  {
   "cell_type": "markdown",
   "metadata": {},
   "source": [
    "For events that are mutually exclusive, the intersection of the two events will be the all-zero array, and the probability of the intersection will be zero\n",
    "\n",
    "Since the array contain 1s and 0s, logical and can be performed by performing elementwise multiplication of the arrays:"
   ]
  },
  {
   "cell_type": "code",
   "execution_count": 10,
   "metadata": {},
   "outputs": [
    {
     "data": {
      "text/plain": [
       "0.0"
      ]
     },
     "execution_count": 10,
     "metadata": {},
     "output_type": "execute_result"
    },
    {
     "data": {
      "image/png": "[encoded data removed]",
      "text/plain": [
       "<Figure size 360x360 with 1 Axes>"
      ]
     },
     "metadata": {
      "needs_background": "light"
     },
     "output_type": "display_data"
    }
   ],
   "source": [
    "int34=E3*E4\n",
    "gridshow(int34)\n",
    "prob(int34)"
   ]
  },
  {
   "cell_type": "code",
   "execution_count": 11,
   "metadata": {},
   "outputs": [
    {
     "data": {
      "text/plain": [
       "0.0"
      ]
     },
     "execution_count": 11,
     "metadata": {},
     "output_type": "execute_result"
    },
    {
     "data": {
      "image/png": "[encoded data removed]",
      "text/plain": [
       "<Figure size 360x360 with 1 Axes>"
      ]
     },
     "metadata": {
      "needs_background": "light"
     },
     "output_type": "display_data"
    }
   ],
   "source": [
    "int56=E5*E6\n",
    "gridshow(int56)\n",
    "prob(int56)"
   ]
  },
  {
   "cell_type": "markdown",
   "metadata": {},
   "source": [
    "On the other hand, here are examples of arrays that are **not mutually exclusive**. The probabilities of the individual arrays is not changed, just the particular sets of outcomes in the arrays:"
   ]
  },
  {
   "cell_type": "code",
   "execution_count": 12,
   "metadata": {},
   "outputs": [
    {
     "data": {
      "text/plain": [
       "(0.12, 0.16)"
      ]
     },
     "execution_count": 12,
     "metadata": {},
     "output_type": "execute_result"
    },
    {
     "data": {
      "image/png": "[encoded data removed]",
      "text/plain": [
       "<Figure size 360x360 with 1 Axes>"
      ]
     },
     "metadata": {
      "needs_background": "light"
     },
     "output_type": "display_data"
    }
   ],
   "source": [
    "G3=rectevent(4,3,3,5)\n",
    "G4=rectevent(8,2,2,5)\n",
    "gridshow(G3,G4)\n",
    "prob(G3),prob(G4)"
   ]
  },
  {
   "cell_type": "markdown",
   "metadata": {},
   "source": [
    "The intersections are not the null set and thus have non-zero probability:"
   ]
  },
  {
   "cell_type": "code",
   "execution_count": 13,
   "metadata": {},
   "outputs": [
    {
     "data": {
      "text/plain": [
       "0.08"
      ]
     },
     "execution_count": 13,
     "metadata": {},
     "output_type": "execute_result"
    },
    {
     "data": {
      "image/png": "[encoded data removed]",
      "text/plain": [
       "<Figure size 360x360 with 1 Axes>"
      ]
     },
     "metadata": {
      "needs_background": "light"
     },
     "output_type": "display_data"
    }
   ],
   "source": [
    "intg34=G3*G4\n",
    "gridshow(intg34)\n",
    "prob(intg34)"
   ]
  },
  {
   "cell_type": "code",
   "execution_count": 14,
   "metadata": {},
   "outputs": [
    {
     "data": {
      "text/plain": [
       "(0.25, 0.24)"
      ]
     },
     "execution_count": 14,
     "metadata": {},
     "output_type": "execute_result"
    },
    {
     "data": {
      "image/png": "[encoded data removed]",
      "text/plain": [
       "<Figure size 360x360 with 1 Axes>"
      ]
     },
     "metadata": {
      "needs_background": "light"
     },
     "output_type": "display_data"
    }
   ],
   "source": [
    "G5=rectevent(5,5,3,4)\n",
    "G6=rectevent(3,8,4,2)\n",
    "gridshow(G5,G6)\n",
    "prob(G5), prob(G6)"
   ]
  },
  {
   "cell_type": "code",
   "execution_count": 15,
   "metadata": {},
   "outputs": [
    {
     "data": {
      "text/plain": [
       "0.15"
      ]
     },
     "execution_count": 15,
     "metadata": {},
     "output_type": "execute_result"
    },
    {
     "data": {
      "image/png": "[encoded data removed]",
      "text/plain": [
       "<Figure size 360x360 with 1 Axes>"
      ]
     },
     "metadata": {
      "needs_background": "light"
     },
     "output_type": "display_data"
    }
   ],
   "source": [
    "intg56=G5*G6\n",
    "gridshow(intg56)\n",
    "prob(intg56)"
   ]
  },
  {
   "cell_type": "markdown",
   "metadata": {},
   "source": [
    "## Statistical Independence"
   ]
  },
  {
   "cell_type": "markdown",
   "metadata": {},
   "source": [
    "Finally, we are ready to study statistical independence. We begin with an example:"
   ]
  },
  {
   "cell_type": "code",
   "execution_count": 16,
   "metadata": {},
   "outputs": [
    {
     "data": {
      "image/png": "[encoded data removed]",
      "text/plain": [
       "<Figure size 360x360 with 1 Axes>"
      ]
     },
     "metadata": {
      "needs_background": "light"
     },
     "output_type": "display_data"
    }
   ],
   "source": [
    "I1=rectevent(5,8)\n",
    "I2=rectevent(6,5,2,6)\n",
    "gridshow(I1,I2)"
   ]
  },
  {
   "cell_type": "markdown",
   "metadata": {},
   "source": [
    "These events are statistically independent.\n",
    "\n",
    "How can we tell? \n",
    "\n",
    "First consider their probabilities:"
   ]
  },
  {
   "cell_type": "code",
   "execution_count": 17,
   "metadata": {},
   "outputs": [
    {
     "data": {
      "text/plain": [
       "(0.4, 0.3)"
      ]
     },
     "execution_count": 17,
     "metadata": {},
     "output_type": "execute_result"
    }
   ],
   "source": [
    "prob(I1),prob(I2)"
   ]
  },
  {
   "cell_type": "markdown",
   "metadata": {},
   "source": [
    "Now, note that we can determine the conditional probability of $I_1$ given $I_2$ by counting the proportion of squares of $I_1$ that lie within $I_2$\n",
    "\n",
    "The number of square of $I_1$ that lie within $I_2$ is the size of the intersection of $I_1$ and $I_2$, which is the darkest shaded area. \n",
    "\n",
    "We see there are 12 such squares.\n",
    "\n",
    "The total number of squares of $I_2$ is 30, so the conditional probability of $I_1$ given $I_2$ is\n",
    "\n",
    "$$\n",
    "P\\left( I_1 \\vert I_2 \\right) = \\frac{12}{30} = 0.4\n",
    "$$\n",
    "\n",
    "Since $P(I_1|I_2) = P(I_1)=0.4$, $I_1$ is independent of $I_2$"
   ]
  },
  {
   "cell_type": "markdown",
   "metadata": {},
   "source": [
    "Note that we could have gotten the same result using the definition of conditional probability:\n",
    "\n",
    "$$\n",
    "P(I_1|I_2) = \\frac{P(I_1 \\cap I_2)}{P(I_2)}\n",
    "$$\n",
    "\n",
    "We can get the probability of the intersection as before:"
   ]
  },
  {
   "cell_type": "code",
   "execution_count": 18,
   "metadata": {},
   "outputs": [
    {
     "data": {
      "text/plain": [
       "0.12"
      ]
     },
     "execution_count": 18,
     "metadata": {},
     "output_type": "execute_result"
    }
   ],
   "source": [
    "inti12=I1*I2\n",
    "prob(inti12)"
   ]
  },
  {
   "cell_type": "markdown",
   "metadata": {},
   "source": [
    "Then the conditional probability of $I_1$ given $I_2$ is:"
   ]
  },
  {
   "cell_type": "code",
   "execution_count": 19,
   "metadata": {},
   "outputs": [
    {
     "data": {
      "text/plain": [
       "0.4"
      ]
     },
     "execution_count": 19,
     "metadata": {},
     "output_type": "execute_result"
    }
   ],
   "source": [
    "prob(inti12)/prob(I2)"
   ]
  },
  {
   "cell_type": "markdown",
   "metadata": {},
   "source": [
    "The results work the same for the opposite conditioning. The conditional probability of $I_2$ given $I_1$ is\n",
    "$$\n",
    "P(I_2|I_1) = \\frac{P(I_1 \\cap I_2)}{P(I_1)}\n",
    "$$"
   ]
  },
  {
   "cell_type": "code",
   "execution_count": 20,
   "metadata": {},
   "outputs": [
    {
     "data": {
      "text/plain": [
       "0.3"
      ]
     },
     "execution_count": 20,
     "metadata": {},
     "output_type": "execute_result"
    }
   ],
   "source": [
    "prob(inti12)/prob(I1)"
   ]
  },
  {
   "cell_type": "markdown",
   "metadata": {},
   "source": [
    "Now, what property will ensure that this happens?\n",
    "\n",
    "Recall our definition for statistical independence: Two events $A$ and $B$ are statistically independent if \n",
    "$$\n",
    "P(A \\cap B) =P(A)P(B)\n",
    "$$\n",
    "\n",
    "If this condition is achieved, then the events will be statistically independent. \n",
    "\n",
    "Below is an interactive widget that lets you try every possible position for the two rectangles. Experiment with this widget to find different combinations of positions that achieve indepence for these two events:"
   ]
  },
  {
   "cell_type": "code",
   "execution_count": 21,
   "metadata": {},
   "outputs": [],
   "source": [
    "from ipywidgets import interactive"
   ]
  },
  {
   "cell_type": "code",
   "execution_count": 22,
   "metadata": {},
   "outputs": [
    {
     "data": {
      "application/vnd.jupyter.widget-view+json": {
       "model_id": "694075cd607b446b9a9e70db7ca1d2f8",
       "version_major": 2,
       "version_minor": 0
      },
      "text/plain": [
       "interactive(children=(IntSlider(value=3, description='x1', max=6, min=1), IntSlider(value=2, description='y1',…"
      ]
     },
     "metadata": {},
     "output_type": "display_data"
    }
   ],
   "source": [
    "def f(x1,y1,x2,y2):\n",
    "    A=rectevent(5,8,x1,y1)\n",
    "    B=rectevent(6,5,x2,y2)\n",
    "    gridshow(A,B)\n",
    "    intab=A*B\n",
    "    if round(prob(intab),4)==round(prob(A)*prob(B),4):\n",
    "        plt.title(\"Independent!\")\n",
    "    else:\n",
    "        plt.title(\"$~$\")\n",
    "    plt.show()\n",
    "\n",
    "interactive_plot=interactive(f,x1=(1,6),y1=(1,3),x2=(1,5),y2=(1,6))\n",
    "interactive_plot"
   ]
  },
  {
   "cell_type": "markdown",
   "metadata": {},
   "source": [
    "Using this knowledge, change the starting $x,y$ locations for the following events until they are statistically independent. Check the proportion of outcomes of each event within the other event and make sure it is the same as the original probability of the event:"
   ]
  },
  {
   "cell_type": "code",
   "execution_count": 23,
   "metadata": {},
   "outputs": [
    {
     "data": {
      "text/plain": [
       "(0.8, 0.3)"
      ]
     },
     "execution_count": 23,
     "metadata": {},
     "output_type": "execute_result"
    },
    {
     "data": {
      "image/png": "[encoded data removed]",
      "text/plain": [
       "<Figure size 360x360 with 1 Axes>"
      ]
     },
     "metadata": {
      "needs_background": "light"
     },
     "output_type": "display_data"
    }
   ],
   "source": [
    "I3=rectevent(10,8)\n",
    "I4=rectevent(6,5,2,2)\n",
    "gridshow(I3,I4)\n",
    "prob(I3), prob(I4)"
   ]
  },
  {
   "cell_type": "markdown",
   "metadata": {},
   "source": [
    "Repeat for this set of events:"
   ]
  },
  {
   "cell_type": "code",
   "execution_count": 24,
   "metadata": {},
   "outputs": [
    {
     "data": {
      "text/plain": [
       "(0.2, 0.4)"
      ]
     },
     "execution_count": 24,
     "metadata": {},
     "output_type": "execute_result"
    },
    {
     "data": {
      "image/png": "[encoded data removed]",
      "text/plain": [
       "<Figure size 360x360 with 1 Axes>"
      ]
     },
     "metadata": {
      "needs_background": "light"
     },
     "output_type": "display_data"
    }
   ],
   "source": [
    "I5=rectevent(5,4,1,4)\n",
    "I6=rectevent(5,8,6,3)\n",
    "gridshow(I5,I6)\n",
    "prob(I5), prob(I6)"
   ]
  },
  {
   "cell_type": "markdown",
   "metadata": {},
   "source": [
    "**To Think About:** Considering the experiments we conducted above, do most cases lead to independent events or to events that are not independent?"
   ]
  },
  {
   "cell_type": "code",
   "execution_count": null,
   "metadata": {},
   "outputs": [],
   "source": []
  }
 ],
 "metadata": {
  "kernelspec": {
   "display_name": "Python 3",
   "language": "python",
   "name": "python3"
  },
  "language_info": {
   "codemirror_mode": {
    "name": "ipython",
    "version": 3
   },
   "file_extension": ".py",
   "mimetype": "text/x-python",
   "name": "python",
   "nbconvert_exporter": "python",
   "pygments_lexer": "ipython3",
   "version": "3.7.4"
  }
 },
 "nbformat": 4,
 "nbformat_minor": 2
}
